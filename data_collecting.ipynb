{
 "cells": [
  {
   "cell_type": "code",
   "execution_count": 4,
   "metadata": {},
   "outputs": [],
   "source": [
    "import requests\n",
    "from bs4 import BeautifulSoup\n",
    "from lxml.html import fromstring\n",
    "from pprint import pprint\n",
    "import pandas as pd\n",
    "from itertools import cycle\n",
    "import traceback\n",
    "import random"
   ]
  },
  {
   "cell_type": "code",
   "execution_count": 2,
   "metadata": {},
   "outputs": [],
   "source": [
    "def get_proxies():\n",
    "    url = 'https://free-proxy-list.net/'\n",
    "    response = requests.get(url)\n",
    "    parser = fromstring(response.text)\n",
    "    proxies = set()\n",
    "    for i in parser.xpath('//tbody/tr')[:50]:\n",
    "        if i.xpath('.//td[7][contains(text(),\"yes\")]') and i.xpath('.//td[5][contains(text(),\"elite proxy\")]'):\n",
    "            #Grabbing IP and corresponding PORT\n",
    "            proxy = \":\".join([i.xpath('.//td[1]/text()')[0], i.xpath('.//td[2]/text()')[0]])\n",
    "            proxies.add(proxy)\n",
    "    return proxies"
   ]
  },
  {
   "cell_type": "code",
   "execution_count": 3,
   "metadata": {},
   "outputs": [
    {
     "data": {
      "text/plain": [
       "{'103.75.27.94:8080',\n",
       " '139.59.70.61:3128',\n",
       " '159.224.176.205:53281',\n",
       " '159.65.0.210:3128',\n",
       " '159.89.192.39:3128',\n",
       " '167.114.185.248:3128',\n",
       " '167.99.12.78:3128',\n",
       " '172.105.242.203:8080',\n",
       " '188.213.171.41:8080',\n",
       " '206.189.33.170:8080',\n",
       " '36.67.45.95:80',\n",
       " '42.104.84.107:8080',\n",
       " '45.79.180.94:3128',\n",
       " '51.15.227.220:3128',\n",
       " '52.164.249.198:3128',\n",
       " '77.91.65.52:39275',\n",
       " '81.22.54.60:53281',\n",
       " '92.53.73.138:8118',\n",
       " '93.183.149.191:53281',\n",
       " '96.9.90.58:55555'}"
      ]
     },
     "execution_count": 3,
     "metadata": {},
     "output_type": "execute_result"
    }
   ],
   "source": [
    "url = 'https://washingtondc.craigslist.org/search/bik/'\n",
    "base_url = 'https://washingtondc.craigslist.org'\n",
    "proxies = get_proxies()\n",
    "proxy_pool = cycle(proxies)\n",
    "proxies"
   ]
  },
  {
   "cell_type": "code",
   "execution_count": null,
   "metadata": {},
   "outputs": [],
   "source": [
    "next_link = False\n",
    "all_data = {}\n",
    "\n",
    "for i in range(1,10):\n",
    "    \n",
    "    proxy = next(proxy_pool)\n",
    "    print(f'Request #{i}')\n",
    "    \n",
    "    try:\n",
    "        if next_link:\n",
    "            data = requests.get(next_link,proxies={\"http\": proxy, \"https\": proxy})\n",
    "            print(proxy, 'if')\n",
    "            soup = BeautifulSoup(data.content, 'html.parser')\n",
    "            collect(soup)\n",
    "            next_page = soup.find('a', {'title': 'next page'})\n",
    "            next_link = base_url + next_page['href']\n",
    "            print(next_link)\n",
    "            \n",
    "        else:\n",
    "            data = requests.get(url,proxies={\"http\": proxy, \"https\": proxy})\n",
    "            print(proxy, 'else')\n",
    "            soup = BeautifulSoup(data.content, 'html.parser')\n",
    "            collect(soup)\n",
    "            next_page = soup.find('a', {'title': 'next page'})\n",
    "            next_link = base_url + next_page['href']\n",
    "            print(next_link)\n",
    "        \n",
    "    except:\n",
    "        #Most free proxies will often get connection errors. You will have retry the entire request using another proxy to work. \n",
    "        #We will just skip retries as its beyond the scope of this tutorial and we are only downloading a single url \n",
    "        print(\"Skipping. Connnection error\")\n",
    "    "
   ]
  },
  {
   "cell_type": "code",
   "execution_count": null,
   "metadata": {},
   "outputs": [],
   "source": [
    "len(all_data)"
   ]
  },
  {
   "cell_type": "code",
   "execution_count": null,
   "metadata": {},
   "outputs": [],
   "source": [
    "def collect(soup):\n",
    "    for el in soup.findAll('p', {'class': 'result-info'}):\n",
    "        for t in el.findAll('a', {'class': \"result-title hdrlnk\"}):\n",
    "            title = t.text\n",
    "            url = t['href']\n",
    "            urli.append(url)\n",
    "        for a in el.findAll('span', {'class': 'result-hood'}):\n",
    "            address = a.text[2:-1]\n",
    "        for d in el.findAll('time'):\n",
    "            date = d['datetime']\n",
    "        for p in el.findAll('span', {'class': 'result-price'}):\n",
    "            price = p.text\n",
    "        all_data[title] = (date, price, address, url)"
   ]
  },
  {
   "cell_type": "code",
   "execution_count": null,
   "metadata": {},
   "outputs": [],
   "source": [
    "pd.DataFrame(all_data).transpose().head(20)"
   ]
  },
  {
   "cell_type": "code",
   "execution_count": null,
   "metadata": {},
   "outputs": [],
   "source": []
  },
  {
   "cell_type": "code",
   "execution_count": null,
   "metadata": {},
   "outputs": [],
   "source": []
  },
  {
   "cell_type": "code",
   "execution_count": null,
   "metadata": {},
   "outputs": [],
   "source": []
  },
  {
   "cell_type": "code",
   "execution_count": null,
   "metadata": {},
   "outputs": [],
   "source": []
  },
  {
   "cell_type": "code",
   "execution_count": null,
   "metadata": {},
   "outputs": [],
   "source": []
  },
  {
   "cell_type": "code",
   "execution_count": null,
   "metadata": {},
   "outputs": [],
   "source": [
    "data.encoding\n",
    "parser = fromstring(data.text)\n",
    "for p in parser.xpath('//span[@class=\"result-meta\"]/span[@class=\"result-price\"]/text()'):\n",
    "        if p:\n",
    "            price.append(p)\n",
    "        else:\n",
    "            price.append('None')\n",
    "\n",
    "for t in parser.xpath('//a[@class=\"result-title hdrlnk\"]/text()'):\n",
    "    title.append(t)\n",
    "    #pprint(li)\n",
    "    #print(li.xpath('a[@class=\"result-title hdrlng\"]/text()'))\n",
    "    #print()\n",
    "    #all_data[counter] = title[i.xpath('//a[@class=\"result-title hdrlnk\"]/text()')]"
   ]
  },
  {
   "cell_type": "code",
   "execution_count": null,
   "metadata": {},
   "outputs": [],
   "source": [
    "for el in parser.xpath('//p[@class=\"result-info\"]'):\n",
    "    title.append(el.xpath('a/text()'))\n",
    "    tit = el.xpath('a/text()')\n",
    "    address.append(el.xpath('span[@class=\"result-meta\"]/span[@class=\"result-hood\"]/text()'))\n",
    "    addr = el.xpath('span[@class=\"result-meta\"]/span[@class=\"result-hood\"]/text()')\n",
    "    price.append(el.xpath('span[@class=\"result-meta\"]/span[@class=\"result-price\"]/text()'))\n",
    "    prc = el.xpath('span[@class=\"result-meta\"]/span[@class=\"result-price\"]/text()')\n",
    "    date.append(el.xpath('time/@datetime'))\n",
    "    dat = el.xpath('time/@datetime')\n",
    "    #all_data[title] = addr, prc, dat"
   ]
  },
  {
   "cell_type": "code",
   "execution_count": null,
   "metadata": {},
   "outputs": [],
   "source": [
    "all_data[title] = price, date, address"
   ]
  },
  {
   "cell_type": "code",
   "execution_count": null,
   "metadata": {},
   "outputs": [],
   "source": [
    "parser.xpath('//p[@class=\"result-info\"]/span[@class=\"result-meta\"]/span[@class=\"result-hood\"]/text()')"
   ]
  },
  {
   "cell_type": "code",
   "execution_count": null,
   "metadata": {},
   "outputs": [],
   "source": [
    "parser.xpath('//ul[@class=\"rows\"]')"
   ]
  },
  {
   "cell_type": "code",
   "execution_count": null,
   "metadata": {},
   "outputs": [],
   "source": [
    "parser.xpath('//span[@class=\"result-price\"]/text()')\n",
    "parser.xpath('//li[@class=\"result-row\"]')"
   ]
  },
  {
   "cell_type": "code",
   "execution_count": null,
   "metadata": {},
   "outputs": [],
   "source": [
    "soup = BeautifulSoup(data.content, 'html.parser')"
   ]
  },
  {
   "cell_type": "code",
   "execution_count": null,
   "metadata": {},
   "outputs": [],
   "source": [
    "soup"
   ]
  },
  {
   "cell_type": "code",
   "execution_count": null,
   "metadata": {},
   "outputs": [],
   "source": []
  }
 ],
 "metadata": {
  "kernelspec": {
   "display_name": "Python 3",
   "language": "python",
   "name": "python3"
  },
  "language_info": {
   "codemirror_mode": {
    "name": "ipython",
    "version": 3
   },
   "file_extension": ".py",
   "mimetype": "text/x-python",
   "name": "python",
   "nbconvert_exporter": "python",
   "pygments_lexer": "ipython3",
   "version": "3.6.4"
  }
 },
 "nbformat": 4,
 "nbformat_minor": 2
}
